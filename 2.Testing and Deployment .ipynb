{
 "cells": [
  {
   "cell_type": "markdown",
   "metadata": {},
   "source": [
    "# Importing required libraries"
   ]
  },
  {
   "cell_type": "code",
   "execution_count": 1,
   "metadata": {},
   "outputs": [],
   "source": [
    "import cv2\n",
    "import os\n",
    "from looks import *"
   ]
  },
  {
   "cell_type": "markdown",
   "metadata": {},
   "source": [
    "# Importing haarcascade model for face detection"
   ]
  },
  {
   "cell_type": "code",
   "execution_count": 2,
   "metadata": {},
   "outputs": [],
   "source": [
    "model_har = cv2.CascadeClassifier('haarcascade_frontalface_default.xml')"
   ]
  },
  {
   "cell_type": "markdown",
   "metadata": {},
   "source": [
    "# loading model for my faces(Sathya)"
   ]
  },
  {
   "cell_type": "code",
   "execution_count": 3,
   "metadata": {},
   "outputs": [],
   "source": [
    "sathya_model = cv2.face_LBPHFaceRecognizer.create()\n",
    "sathya_model.read('./sathya_model.h5')"
   ]
  },
  {
   "cell_type": "markdown",
   "metadata": {},
   "source": [
    "# loading model for Indus face"
   ]
  },
  {
   "cell_type": "code",
   "execution_count": 4,
   "metadata": {},
   "outputs": [],
   "source": [
    "indu_model = cv2.face_LBPHFaceRecognizer.create()\n",
    "indu_model.read('./indu_model.h5')"
   ]
  },
  {
   "cell_type": "code",
   "execution_count": 5,
   "metadata": {},
   "outputs": [
    {
     "name": "stderr",
     "output_type": "stream",
     "text": [
      "<>:7: SyntaxWarning: \"is\" with a literal. Did you mean \"==\"?\n",
      "<>:7: SyntaxWarning: \"is\" with a literal. Did you mean \"==\"?\n",
      "<ipython-input-5-d34868e27b49>:7: SyntaxWarning: \"is\" with a literal. Did you mean \"==\"?\n",
      "  if faces is ():\n"
     ]
    }
   ],
   "source": [
    "#function for cropping the face\n",
    "def cropface(img):\n",
    "    \n",
    "    # Convert image to grayscale\n",
    "    gray = cv2.cvtColor(img,cv2.COLOR_BGR2GRAY)\n",
    "    faces = model_har.detectMultiScale(gray, 1.3, 5)\n",
    "    if faces is ():\n",
    "        return img\n",
    "     \n",
    "    for (x,y,w,h) in faces:\n",
    "        cv2.rectangle(img,(x,y),(x+w,y+h),(0,255,255),2)\n",
    "        cropped = img[y:y+h, x:x+w]\n",
    "    return cropped"
   ]
  },
  {
   "cell_type": "markdown",
   "metadata": {},
   "source": [
    "# Face Detection of Sathya for Sending Whatsapp dm and sending mail"
   ]
  },
  {
   "cell_type": "code",
   "execution_count": 6,
   "metadata": {},
   "outputs": [
    {
     "name": "stdout",
     "output_type": "stream",
     "text": [
      "Result value for my face :  (77, 24.141511844845713)\n",
      "Confidence value for my face :  93\n",
      "sending whatsapp message\n",
      "**************************************\n",
      "whatsapp message sent successful\n",
      "**************************************\n",
      "mail confirm\n",
      "mail sent successful\n"
     ]
    }
   ],
   "source": [
    "#capturing sathya face\n",
    "cap = cv2.VideoCapture(0)\n",
    "ret, myframe = cap.read()\n",
    "#cropping image\n",
    "myface_cropimage = cropface(myframe)\n",
    "\n",
    "#change color of image to gray color \n",
    "myface_cropimage = cv2.cvtColor(myface_cropimage,cv2.COLOR_BGR2GRAY)\n",
    "\n",
    "#resizing the image\n",
    "myface_cropimage = cv2.resize(myface_cropimage,(200,200))\n",
    "\n",
    "#showing my image\n",
    "cv2.imshow(\"my crop photo\",myface_cropimage)\n",
    "cv2.waitKey()\n",
    "cv2.destroyAllWindows()\n",
    "\n",
    "#myface stroing into file\n",
    "cv2.imwrite(\"sathya.jpg\",myface_cropimage)\n",
    "\n",
    "#release camera\n",
    "cap.release()\n",
    "\n",
    "# predicting the result of sathya face\n",
    "sathya_myface = sathya_model.predict(myface_cropimage)\n",
    "\n",
    "#printing prediction result value for my face\n",
    "print(\"Result value for my face : \" , sathya_myface)\n",
    "\n",
    "#confidence value for my face\n",
    "sathya_confidence = int( 100 * (1 - (sathya_myface[1])/400) )\n",
    "print(\"Confidence value for my face : \" , sathya_confidence)\n",
    "# Function for sending whatsapp message\n",
    "\n",
    "\n",
    "if sathya_confidence >= 80:\n",
    "    print(\"sending whatsapp message\")\n",
    "    whatsapp_msg_sent()\n",
    "    print(\"**************************************\")\n",
    "    print(\"whatsapp message sent successful\")\n",
    "    print(\"**************************************\")\n",
    "    \n",
    "    print(\"mail confirm\")\n",
    "    email_sent()\n",
    "    print(\"mail sent successful\")\n",
    "       \n",
    "else:\n",
    "    print(\"face not found\")"
   ]
  },
  {
   "cell_type": "markdown",
   "metadata": {},
   "source": [
    "# Face Detection of Indu : Launching AWS EC2 Instance & Creating EBS Volume"
   ]
  },
  {
   "cell_type": "code",
   "execution_count": 7,
   "metadata": {},
   "outputs": [
    {
     "name": "stdout",
     "output_type": "stream",
     "text": [
      "Result value for indu face :  (29, 24.42244137054899)\n",
      "Confidence value for my face :  93\n",
      "EC2 Instance has been Launched\n",
      "launching ec2 instance\n",
      "launched ec2 instance\n",
      "creating ebs volume\n",
      "EBS volume hab been Launched\n",
      "launched ebs volume\n"
     ]
    }
   ],
   "source": [
    "#capturing Indu face\n",
    "cap = cv2.VideoCapture(0)\n",
    "ret, myframe = cap.read()\n",
    "\n",
    "#cropping image\n",
    "myface_cropimage = cropface(myframe)\n",
    "\n",
    "#change color of image to gray color \n",
    "myface_cropimage = cv2.cvtColor(myface_cropimage,cv2.COLOR_BGR2GRAY)\n",
    "\n",
    "#resizing the image\n",
    "myface_cropimage = cv2.resize(myface_cropimage,(200,200))\n",
    "\n",
    "#showing my image\n",
    "cv2.imshow(\"my crop photo\",myface_cropimage)\n",
    "cv2.waitKey()\n",
    "cv2.destroyAllWindows()\n",
    "\n",
    "#myface stroing into file\n",
    "cv2.imwrite(\"indu_photo.jpg\",myface_cropimage)\n",
    "\n",
    "#release camera\n",
    "cap.release()\n",
    "\n",
    "# predicting the result of Shrishti face\n",
    "indu_myface = indu_model.predict(myface_cropimage)\n",
    "\n",
    "#printing prediction result value for my face\n",
    "print(\"Result value for indu face : \" , indu_myface)\n",
    "\n",
    "#confidence value for my face\n",
    "indu_confidence = int( 100 * (1 - (indu_myface[1])/400) )\n",
    "print(\"Confidence value for my face : \" , indu_confidence)\n",
    "\n",
    "if indu_confidence >= 80:\n",
    "    # Creating an ec2 instance on aws cloud\n",
    "    os.system(\"aws ec2 run-instances --image-id ami-0b0af3577fe5e3532 --count 1 --instance-type t2.micro  --key-name Arth2020 --security-group-ids  sg-04ef2c7f0c0c002db\")\n",
    "    print(\"EC2 Instance has been Launched\")\n",
    "    print(\"launching ec2 instance\")\n",
    "    print(\"launched ec2 instance\")\n",
    "    print(\"creating ebs volume\")\n",
    "    os.system(\"aws ec2 create-volume --availability-zone us-east-1c --size 5 --volume-type gp2 --tag-specification  ResourceType=volume,Tags=[{Key=aws,Value=key}]\")    \n",
    "    print(\"EBS volume hab been Launched\")\n",
    "    print(\"launched ebs volume\")\n",
    "    \n",
    "else:\n",
    "    print(\"face not found\")"
   ]
  },
  {
   "cell_type": "markdown",
   "metadata": {},
   "source": [
    "# Thank You"
   ]
  },
  {
   "cell_type": "code",
   "execution_count": null,
   "metadata": {},
   "outputs": [],
   "source": []
  }
 ],
 "metadata": {
  "kernelspec": {
   "display_name": "Python 3",
   "language": "python",
   "name": "python3"
  },
  "language_info": {
   "codemirror_mode": {
    "name": "ipython",
    "version": 3
   },
   "file_extension": ".py",
   "mimetype": "text/x-python",
   "name": "python",
   "nbconvert_exporter": "python",
   "pygments_lexer": "ipython3",
   "version": "3.8.8"
  }
 },
 "nbformat": 4,
 "nbformat_minor": 4
}
